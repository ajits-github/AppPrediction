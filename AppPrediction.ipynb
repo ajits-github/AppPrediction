{
  "nbformat": 4,
  "nbformat_minor": 0,
  "metadata": {
    "colab": {
      "provenance": [],
      "mount_file_id": "1AATMe6mRrjX5UCV_tBJxNVNdpOWn12lH",
      "authorship_tag": "ABX9TyPawrORxOf5+PfKcT/IyDSD",
      "include_colab_link": true
    },
    "kernelspec": {
      "name": "python3",
      "display_name": "Python 3"
    },
    "language_info": {
      "name": "python"
    }
  },
  "cells": [
    {
      "cell_type": "markdown",
      "metadata": {
        "id": "view-in-github",
        "colab_type": "text"
      },
      "source": [
        "<a href=\"https://colab.research.google.com/github/ajits-github/AppPrediction/blob/main/AppPrediction.ipynb\" target=\"_parent\"><img src=\"https://colab.research.google.com/assets/colab-badge.svg\" alt=\"Open In Colab\"/></a>"
      ]
    },
    {
      "cell_type": "code",
      "execution_count": null,
      "metadata": {
        "id": "PQSojiF2JEqj"
      },
      "outputs": [],
      "source": [
        "import pandas as pd"
      ]
    },
    {
      "cell_type": "code",
      "source": [
        "path_to_data = '/content/drive/MyDrive/Colab Notebooks/master_data.csv'\n",
        "df_orginal = pd.read_csv(path_to_data)\n",
        "df_orginal"
      ],
      "metadata": {
        "colab": {
          "base_uri": "https://localhost:8080/",
          "height": 424
        },
        "id": "Ce89K4D4JUsn",
        "outputId": "15683475-c5f7-429e-83fc-b1e0e9c7dd93"
      },
      "execution_count": null,
      "outputs": [
        {
          "output_type": "execute_result",
          "data": {
            "text/plain": [
              "        install           user id              game app country  \\\n",
              "0             0  0vYmvBI8AocXVfrL  4orCk3bBPLAf3qnZrE2m      DE   \n",
              "1             0  imjKe92YjMlH7iVX  8r92kfSTOHs7KSd0zCU8      US   \n",
              "2             1  hV6PJN2FMNTzDkGz  IUgSZ6L7m92e14QKrGFd      US   \n",
              "3             0  RzyPHjMYVAzQ3u1J  IUgSZ6L7m92e14QKrGFd      BR   \n",
              "4             0  8a6V9ethyRX5rLux  eVy14GUauNxRgry1jzzc      IN   \n",
              "...         ...               ...                   ...     ...   \n",
              "299995        1  fW3OsK8Q0Nnt6DlV  eVy14GUauNxRgry1jzQD      US   \n",
              "299996        1  q7HVyXqTMaf0phn5  eVy14GUauNxRgry1jzQD      US   \n",
              "299997        1  BXVhzpkGGOKFDT7F  eVy14GUauNxRgry1jzQD      US   \n",
              "299998        0  euwtblWLcqwIiTcp  eVy14GUauNxRgry1jzQD      US   \n",
              "299999        0  151t53X4BdQ7o0TC  eVy14GUauNxRgry1jzQD      US   \n",
              "\n",
              "                  advertiser  age  user quality score   createdat  spending  \\\n",
              "0       9OMDwsBWiyVTC2sV23QG    2                   2  1675209615  0.024200   \n",
              "1       kx79GxvyIDzXAudvrCkY    1                   3  1675209618  0.032621   \n",
              "2       UDSRYiwIvhvuhd2hlWW5    4                   1  1675209628  0.031483   \n",
              "3       uj6SjhziNLHHbnNOLMys    5                   2  1675209641  0.000910   \n",
              "4       fsf1VXh3qzzd9awavuL9    5                   2  1675209652  0.000584   \n",
              "...                      ...  ...                 ...         ...       ...   \n",
              "299995  ndREtPhnDnoOsdsWYyvu    1                   2  1677628751  0.028069   \n",
              "299996  ndREtPhnDnoOsdsWYyvu    1                   1  1677628760  0.028069   \n",
              "299997  ndREtPhnDnoOsdsWYyvu    1                   1  1677628763  0.028069   \n",
              "299998  ndREtPhnDnoOsdsWYyvu    3                   2  1677628769  0.028069   \n",
              "299999  ndREtPhnDnoOsdsWYyvu    5                   1  1677628774  0.028069   \n",
              "\n",
              "         earning carrier  mccmnc  \n",
              "0       0.000000   0tgZV  262709  \n",
              "1       0.000000   FXsdn  312960  \n",
              "2       1.431034   OYLpP  312922  \n",
              "3       0.000000   wyZnu  724705  \n",
              "4       0.000000   YBjy0  404690  \n",
              "...          ...     ...     ...  \n",
              "299995  1.275862   YBjy0  312911  \n",
              "299996  1.275862   FXsdn  312083  \n",
              "299997  1.275862   MxaEs  312723  \n",
              "299998  0.000000   0tgZV  312728  \n",
              "299999  0.000000   yKuvX  312945  \n",
              "\n",
              "[300000 rows x 12 columns]"
            ],
            "text/html": [
              "\n",
              "  <div id=\"df-823fd907-c71c-462a-905b-d977cff5faac\">\n",
              "    <div class=\"colab-df-container\">\n",
              "      <div>\n",
              "<style scoped>\n",
              "    .dataframe tbody tr th:only-of-type {\n",
              "        vertical-align: middle;\n",
              "    }\n",
              "\n",
              "    .dataframe tbody tr th {\n",
              "        vertical-align: top;\n",
              "    }\n",
              "\n",
              "    .dataframe thead th {\n",
              "        text-align: right;\n",
              "    }\n",
              "</style>\n",
              "<table border=\"1\" class=\"dataframe\">\n",
              "  <thead>\n",
              "    <tr style=\"text-align: right;\">\n",
              "      <th></th>\n",
              "      <th>install</th>\n",
              "      <th>user id</th>\n",
              "      <th>game app</th>\n",
              "      <th>country</th>\n",
              "      <th>advertiser</th>\n",
              "      <th>age</th>\n",
              "      <th>user quality score</th>\n",
              "      <th>createdat</th>\n",
              "      <th>spending</th>\n",
              "      <th>earning</th>\n",
              "      <th>carrier</th>\n",
              "      <th>mccmnc</th>\n",
              "    </tr>\n",
              "  </thead>\n",
              "  <tbody>\n",
              "    <tr>\n",
              "      <th>0</th>\n",
              "      <td>0</td>\n",
              "      <td>0vYmvBI8AocXVfrL</td>\n",
              "      <td>4orCk3bBPLAf3qnZrE2m</td>\n",
              "      <td>DE</td>\n",
              "      <td>9OMDwsBWiyVTC2sV23QG</td>\n",
              "      <td>2</td>\n",
              "      <td>2</td>\n",
              "      <td>1675209615</td>\n",
              "      <td>0.024200</td>\n",
              "      <td>0.000000</td>\n",
              "      <td>0tgZV</td>\n",
              "      <td>262709</td>\n",
              "    </tr>\n",
              "    <tr>\n",
              "      <th>1</th>\n",
              "      <td>0</td>\n",
              "      <td>imjKe92YjMlH7iVX</td>\n",
              "      <td>8r92kfSTOHs7KSd0zCU8</td>\n",
              "      <td>US</td>\n",
              "      <td>kx79GxvyIDzXAudvrCkY</td>\n",
              "      <td>1</td>\n",
              "      <td>3</td>\n",
              "      <td>1675209618</td>\n",
              "      <td>0.032621</td>\n",
              "      <td>0.000000</td>\n",
              "      <td>FXsdn</td>\n",
              "      <td>312960</td>\n",
              "    </tr>\n",
              "    <tr>\n",
              "      <th>2</th>\n",
              "      <td>1</td>\n",
              "      <td>hV6PJN2FMNTzDkGz</td>\n",
              "      <td>IUgSZ6L7m92e14QKrGFd</td>\n",
              "      <td>US</td>\n",
              "      <td>UDSRYiwIvhvuhd2hlWW5</td>\n",
              "      <td>4</td>\n",
              "      <td>1</td>\n",
              "      <td>1675209628</td>\n",
              "      <td>0.031483</td>\n",
              "      <td>1.431034</td>\n",
              "      <td>OYLpP</td>\n",
              "      <td>312922</td>\n",
              "    </tr>\n",
              "    <tr>\n",
              "      <th>3</th>\n",
              "      <td>0</td>\n",
              "      <td>RzyPHjMYVAzQ3u1J</td>\n",
              "      <td>IUgSZ6L7m92e14QKrGFd</td>\n",
              "      <td>BR</td>\n",
              "      <td>uj6SjhziNLHHbnNOLMys</td>\n",
              "      <td>5</td>\n",
              "      <td>2</td>\n",
              "      <td>1675209641</td>\n",
              "      <td>0.000910</td>\n",
              "      <td>0.000000</td>\n",
              "      <td>wyZnu</td>\n",
              "      <td>724705</td>\n",
              "    </tr>\n",
              "    <tr>\n",
              "      <th>4</th>\n",
              "      <td>0</td>\n",
              "      <td>8a6V9ethyRX5rLux</td>\n",
              "      <td>eVy14GUauNxRgry1jzzc</td>\n",
              "      <td>IN</td>\n",
              "      <td>fsf1VXh3qzzd9awavuL9</td>\n",
              "      <td>5</td>\n",
              "      <td>2</td>\n",
              "      <td>1675209652</td>\n",
              "      <td>0.000584</td>\n",
              "      <td>0.000000</td>\n",
              "      <td>YBjy0</td>\n",
              "      <td>404690</td>\n",
              "    </tr>\n",
              "    <tr>\n",
              "      <th>...</th>\n",
              "      <td>...</td>\n",
              "      <td>...</td>\n",
              "      <td>...</td>\n",
              "      <td>...</td>\n",
              "      <td>...</td>\n",
              "      <td>...</td>\n",
              "      <td>...</td>\n",
              "      <td>...</td>\n",
              "      <td>...</td>\n",
              "      <td>...</td>\n",
              "      <td>...</td>\n",
              "      <td>...</td>\n",
              "    </tr>\n",
              "    <tr>\n",
              "      <th>299995</th>\n",
              "      <td>1</td>\n",
              "      <td>fW3OsK8Q0Nnt6DlV</td>\n",
              "      <td>eVy14GUauNxRgry1jzQD</td>\n",
              "      <td>US</td>\n",
              "      <td>ndREtPhnDnoOsdsWYyvu</td>\n",
              "      <td>1</td>\n",
              "      <td>2</td>\n",
              "      <td>1677628751</td>\n",
              "      <td>0.028069</td>\n",
              "      <td>1.275862</td>\n",
              "      <td>YBjy0</td>\n",
              "      <td>312911</td>\n",
              "    </tr>\n",
              "    <tr>\n",
              "      <th>299996</th>\n",
              "      <td>1</td>\n",
              "      <td>q7HVyXqTMaf0phn5</td>\n",
              "      <td>eVy14GUauNxRgry1jzQD</td>\n",
              "      <td>US</td>\n",
              "      <td>ndREtPhnDnoOsdsWYyvu</td>\n",
              "      <td>1</td>\n",
              "      <td>1</td>\n",
              "      <td>1677628760</td>\n",
              "      <td>0.028069</td>\n",
              "      <td>1.275862</td>\n",
              "      <td>FXsdn</td>\n",
              "      <td>312083</td>\n",
              "    </tr>\n",
              "    <tr>\n",
              "      <th>299997</th>\n",
              "      <td>1</td>\n",
              "      <td>BXVhzpkGGOKFDT7F</td>\n",
              "      <td>eVy14GUauNxRgry1jzQD</td>\n",
              "      <td>US</td>\n",
              "      <td>ndREtPhnDnoOsdsWYyvu</td>\n",
              "      <td>1</td>\n",
              "      <td>1</td>\n",
              "      <td>1677628763</td>\n",
              "      <td>0.028069</td>\n",
              "      <td>1.275862</td>\n",
              "      <td>MxaEs</td>\n",
              "      <td>312723</td>\n",
              "    </tr>\n",
              "    <tr>\n",
              "      <th>299998</th>\n",
              "      <td>0</td>\n",
              "      <td>euwtblWLcqwIiTcp</td>\n",
              "      <td>eVy14GUauNxRgry1jzQD</td>\n",
              "      <td>US</td>\n",
              "      <td>ndREtPhnDnoOsdsWYyvu</td>\n",
              "      <td>3</td>\n",
              "      <td>2</td>\n",
              "      <td>1677628769</td>\n",
              "      <td>0.028069</td>\n",
              "      <td>0.000000</td>\n",
              "      <td>0tgZV</td>\n",
              "      <td>312728</td>\n",
              "    </tr>\n",
              "    <tr>\n",
              "      <th>299999</th>\n",
              "      <td>0</td>\n",
              "      <td>151t53X4BdQ7o0TC</td>\n",
              "      <td>eVy14GUauNxRgry1jzQD</td>\n",
              "      <td>US</td>\n",
              "      <td>ndREtPhnDnoOsdsWYyvu</td>\n",
              "      <td>5</td>\n",
              "      <td>1</td>\n",
              "      <td>1677628774</td>\n",
              "      <td>0.028069</td>\n",
              "      <td>0.000000</td>\n",
              "      <td>yKuvX</td>\n",
              "      <td>312945</td>\n",
              "    </tr>\n",
              "  </tbody>\n",
              "</table>\n",
              "<p>300000 rows × 12 columns</p>\n",
              "</div>\n",
              "      <button class=\"colab-df-convert\" onclick=\"convertToInteractive('df-823fd907-c71c-462a-905b-d977cff5faac')\"\n",
              "              title=\"Convert this dataframe to an interactive table.\"\n",
              "              style=\"display:none;\">\n",
              "        \n",
              "  <svg xmlns=\"http://www.w3.org/2000/svg\" height=\"24px\"viewBox=\"0 0 24 24\"\n",
              "       width=\"24px\">\n",
              "    <path d=\"M0 0h24v24H0V0z\" fill=\"none\"/>\n",
              "    <path d=\"M18.56 5.44l.94 2.06.94-2.06 2.06-.94-2.06-.94-.94-2.06-.94 2.06-2.06.94zm-11 1L8.5 8.5l.94-2.06 2.06-.94-2.06-.94L8.5 2.5l-.94 2.06-2.06.94zm10 10l.94 2.06.94-2.06 2.06-.94-2.06-.94-.94-2.06-.94 2.06-2.06.94z\"/><path d=\"M17.41 7.96l-1.37-1.37c-.4-.4-.92-.59-1.43-.59-.52 0-1.04.2-1.43.59L10.3 9.45l-7.72 7.72c-.78.78-.78 2.05 0 2.83L4 21.41c.39.39.9.59 1.41.59.51 0 1.02-.2 1.41-.59l7.78-7.78 2.81-2.81c.8-.78.8-2.07 0-2.86zM5.41 20L4 18.59l7.72-7.72 1.47 1.35L5.41 20z\"/>\n",
              "  </svg>\n",
              "      </button>\n",
              "      \n",
              "  <style>\n",
              "    .colab-df-container {\n",
              "      display:flex;\n",
              "      flex-wrap:wrap;\n",
              "      gap: 12px;\n",
              "    }\n",
              "\n",
              "    .colab-df-convert {\n",
              "      background-color: #E8F0FE;\n",
              "      border: none;\n",
              "      border-radius: 50%;\n",
              "      cursor: pointer;\n",
              "      display: none;\n",
              "      fill: #1967D2;\n",
              "      height: 32px;\n",
              "      padding: 0 0 0 0;\n",
              "      width: 32px;\n",
              "    }\n",
              "\n",
              "    .colab-df-convert:hover {\n",
              "      background-color: #E2EBFA;\n",
              "      box-shadow: 0px 1px 2px rgba(60, 64, 67, 0.3), 0px 1px 3px 1px rgba(60, 64, 67, 0.15);\n",
              "      fill: #174EA6;\n",
              "    }\n",
              "\n",
              "    [theme=dark] .colab-df-convert {\n",
              "      background-color: #3B4455;\n",
              "      fill: #D2E3FC;\n",
              "    }\n",
              "\n",
              "    [theme=dark] .colab-df-convert:hover {\n",
              "      background-color: #434B5C;\n",
              "      box-shadow: 0px 1px 3px 1px rgba(0, 0, 0, 0.15);\n",
              "      filter: drop-shadow(0px 1px 2px rgba(0, 0, 0, 0.3));\n",
              "      fill: #FFFFFF;\n",
              "    }\n",
              "  </style>\n",
              "\n",
              "      <script>\n",
              "        const buttonEl =\n",
              "          document.querySelector('#df-823fd907-c71c-462a-905b-d977cff5faac button.colab-df-convert');\n",
              "        buttonEl.style.display =\n",
              "          google.colab.kernel.accessAllowed ? 'block' : 'none';\n",
              "\n",
              "        async function convertToInteractive(key) {\n",
              "          const element = document.querySelector('#df-823fd907-c71c-462a-905b-d977cff5faac');\n",
              "          const dataTable =\n",
              "            await google.colab.kernel.invokeFunction('convertToInteractive',\n",
              "                                                     [key], {});\n",
              "          if (!dataTable) return;\n",
              "\n",
              "          const docLinkHtml = 'Like what you see? Visit the ' +\n",
              "            '<a target=\"_blank\" href=https://colab.research.google.com/notebooks/data_table.ipynb>data table notebook</a>'\n",
              "            + ' to learn more about interactive tables.';\n",
              "          element.innerHTML = '';\n",
              "          dataTable['output_type'] = 'display_data';\n",
              "          await google.colab.output.renderOutput(dataTable, element);\n",
              "          const docLink = document.createElement('div');\n",
              "          docLink.innerHTML = docLinkHtml;\n",
              "          element.appendChild(docLink);\n",
              "        }\n",
              "      </script>\n",
              "    </div>\n",
              "  </div>\n",
              "  "
            ]
          },
          "metadata": {},
          "execution_count": 17
        }
      ]
    },
    {
      "cell_type": "code",
      "source": [
        "df = df_orginal.copy()"
      ],
      "metadata": {
        "id": "Uqdp-H4iLMuD"
      },
      "execution_count": null,
      "outputs": []
    },
    {
      "cell_type": "code",
      "source": [
        "# Check for missing values\n",
        "df.isnull().sum()"
      ],
      "metadata": {
        "colab": {
          "base_uri": "https://localhost:8080/"
        },
        "id": "9dXJWiTdJ4dE",
        "outputId": "05032a31-f7dc-4425-8a92-855c841a57e9"
      },
      "execution_count": null,
      "outputs": [
        {
          "output_type": "execute_result",
          "data": {
            "text/plain": [
              "install               0\n",
              "user id               0\n",
              "game app              0\n",
              "country               0\n",
              "advertiser            0\n",
              "age                   0\n",
              "user quality score    0\n",
              "createdat             0\n",
              "spending              0\n",
              "earning               0\n",
              "carrier               0\n",
              "mccmnc                0\n",
              "dtype: int64"
            ]
          },
          "metadata": {},
          "execution_count": 19
        }
      ]
    },
    {
      "cell_type": "code",
      "source": [
        "# Check for duplicate entries\n",
        "duplicates = df.duplicated().sum()\n",
        "print(\"Number of duplicate entries: \",duplicates)"
      ],
      "metadata": {
        "colab": {
          "base_uri": "https://localhost:8080/"
        },
        "id": "8Ikjgk1kLPUI",
        "outputId": "d7f1eb26-32c2-412a-b780-df46da81bc0c"
      },
      "execution_count": null,
      "outputs": [
        {
          "output_type": "stream",
          "name": "stdout",
          "text": [
            "Number of duplicate entries:  0\n"
          ]
        }
      ]
    },
    {
      "cell_type": "code",
      "source": [
        "# Column counts\n",
        "column_lengths = df.nunique()\n",
        "\n",
        "# Print the length of unique values for each column\n",
        "for column, length in column_lengths.items():\n",
        "    print(f\"Length of unique values in column '{column}': {length}\")\n",
        "\n",
        "print(f\"\\nTotal number of records: {df.shape[0]}\")"
      ],
      "metadata": {
        "colab": {
          "base_uri": "https://localhost:8080/"
        },
        "id": "G95InnIYLWQK",
        "outputId": "4c407c8d-4920-4c00-fe57-2994720b0428"
      },
      "execution_count": null,
      "outputs": [
        {
          "output_type": "stream",
          "name": "stdout",
          "text": [
            "Length of unique values in column 'install': 2\n",
            "Length of unique values in column 'user id': 300000\n",
            "Length of unique values in column 'game app': 7\n",
            "Length of unique values in column 'country': 7\n",
            "Length of unique values in column 'advertiser': 30\n",
            "Length of unique values in column 'age': 5\n",
            "Length of unique values in column 'user quality score': 3\n",
            "Length of unique values in column 'createdat': 282273\n",
            "Length of unique values in column 'spending': 204\n",
            "Length of unique values in column 'earning': 206\n",
            "Length of unique values in column 'carrier': 20\n",
            "Length of unique values in column 'mccmnc': 385\n",
            "\n",
            "Total number of records: 300000\n"
          ]
        }
      ]
    },
    {
      "cell_type": "code",
      "source": [
        "# Summary statistics of numerical columns\n",
        "print(\"Summary statistics:\")\n",
        "print(df.describe())\n"
      ],
      "metadata": {
        "colab": {
          "base_uri": "https://localhost:8080/"
        },
        "id": "28bgDiGFLiVL",
        "outputId": "184420f8-6d5c-479b-9c3d-093acc8a00e7"
      },
      "execution_count": null,
      "outputs": [
        {
          "output_type": "stream",
          "name": "stdout",
          "text": [
            "Summary statistics:\n",
            "             install            age  user quality score     createdat  \\\n",
            "count  300000.000000  300000.000000        300000.00000  3.000000e+05   \n",
            "mean        0.022007       2.963000             1.98933  1.676419e+09   \n",
            "std         0.146705       1.424986             0.81723  6.980178e+05   \n",
            "min         0.000000       1.000000             1.00000  1.675210e+09   \n",
            "25%         0.000000       2.000000             1.00000  1.675815e+09   \n",
            "50%         0.000000       3.000000             2.00000  1.676420e+09   \n",
            "75%         0.000000       4.000000             3.00000  1.677024e+09   \n",
            "max         1.000000       5.000000             3.00000  1.677629e+09   \n",
            "\n",
            "            spending        earning         mccmnc  \n",
            "count  300000.000000  300000.000000  300000.000000  \n",
            "mean        0.013160       0.013084  382849.938283  \n",
            "std         0.010696       0.112877  167787.653119  \n",
            "min         0.000220       0.000000  232015.000000  \n",
            "25%         0.001081       0.000000  234818.000000  \n",
            "50%         0.012631       0.000000  312652.000000  \n",
            "75%         0.020103       0.000000  505267.000000  \n",
            "max         0.044000       2.000000  724998.000000  \n"
          ]
        }
      ]
    },
    {
      "cell_type": "code",
      "source": [
        "# Information about the DataFrame\n",
        "print(\"Data information:\")\n",
        "df.info()\n"
      ],
      "metadata": {
        "colab": {
          "base_uri": "https://localhost:8080/"
        },
        "id": "9CBome2OMMl6",
        "outputId": "7dea51ef-3088-4fc0-b05c-190a043f64aa"
      },
      "execution_count": null,
      "outputs": [
        {
          "output_type": "stream",
          "name": "stdout",
          "text": [
            "Data information:\n",
            "<class 'pandas.core.frame.DataFrame'>\n",
            "RangeIndex: 300000 entries, 0 to 299999\n",
            "Data columns (total 12 columns):\n",
            " #   Column              Non-Null Count   Dtype  \n",
            "---  ------              --------------   -----  \n",
            " 0   install             300000 non-null  int64  \n",
            " 1   user id             300000 non-null  object \n",
            " 2   game app            300000 non-null  object \n",
            " 3   country             300000 non-null  object \n",
            " 4   advertiser          300000 non-null  object \n",
            " 5   age                 300000 non-null  int64  \n",
            " 6   user quality score  300000 non-null  int64  \n",
            " 7   createdat           300000 non-null  int64  \n",
            " 8   spending            300000 non-null  float64\n",
            " 9   earning             300000 non-null  float64\n",
            " 10  carrier             300000 non-null  object \n",
            " 11  mccmnc              300000 non-null  int64  \n",
            "dtypes: float64(2), int64(5), object(5)\n",
            "memory usage: 27.5+ MB\n"
          ]
        }
      ]
    },
    {
      "cell_type": "markdown",
      "source": [
        "### Which game app has had the best performance in terms of spending, earning, and the number of installs?"
      ],
      "metadata": {
        "id": "WD_H61jwPLsl"
      }
    },
    {
      "cell_type": "code",
      "source": [
        "# Calculate cumulative spending, earning, and installs per game app\n",
        "performance_df = df.groupby('game app').agg({\n",
        "    'spending': 'sum',\n",
        "    'earning': 'sum',\n",
        "    'install': 'sum'\n",
        "}).reset_index()\n",
        "\n",
        "# Sort by spending, earning, and installs in descending order\n",
        "performance_df = performance_df.sort_values(['spending', 'earning', 'install'], ascending=False)\n",
        "\n",
        "# Retrieve the game app with the best performance\n",
        "best_game_app = performance_df.iloc[0]['game app']\n",
        "\n",
        "print(\"The game app with the best performance:\")\n",
        "print(best_game_app)"
      ],
      "metadata": {
        "colab": {
          "base_uri": "https://localhost:8080/"
        },
        "id": "78L3QNEMMQL7",
        "outputId": "307eec38-9f52-4262-fb05-35175facc26c"
      },
      "execution_count": null,
      "outputs": [
        {
          "output_type": "stream",
          "name": "stdout",
          "text": [
            "The game app with the best performance:\n",
            "1yXfAufLTi688uUPvfZm\n"
          ]
        }
      ]
    },
    {
      "cell_type": "markdown",
      "source": [
        "* To determine which game app has had the best performance in terms of spending, earning, and the number of installs, we considered the cumulative values for each game app.\n",
        "* By calculating the cumulative spending, earning, and installs for each game app and sorting the dataframe based on those values, the code identifies the game app with the best performance."
      ],
      "metadata": {
        "id": "YKxVCkTfOS-A"
      }
    },
    {
      "cell_type": "markdown",
      "source": [
        "### In which country, game, and for which advertiser, we had the highest conversion rate? Why we cannot trust this number fully?"
      ],
      "metadata": {
        "id": "AtlIAvNyO-Zj"
      }
    },
    {
      "cell_type": "code",
      "source": [
        "# Calculate the conversion rate (approximated as installs/spending) per country, game, and advertiser\n",
        "conversion_rate_df = df.groupby(['country', 'game app', 'advertiser']).agg({\n",
        "    'install': 'sum',\n",
        "    'spending': 'sum'\n",
        "}).reset_index()\n",
        "\n",
        "conversion_rate_df['conversion_rate'] = conversion_rate_df['install'] / conversion_rate_df['spending']\n",
        "\n",
        "# Sort by conversion rate in descending order\n",
        "conversion_rate_df = conversion_rate_df.sort_values('conversion_rate', ascending=False)\n",
        "\n",
        "# Retrieve the country, game, and advertiser with the highest conversion rate\n",
        "highest_conversion_rate_country = conversion_rate_df.iloc[0]['country']\n",
        "highest_conversion_rate_game = conversion_rate_df.iloc[0]['game app']\n",
        "highest_conversion_rate_advertiser = conversion_rate_df.iloc[0]['advertiser']\n",
        "\n",
        "print(\"The country, game, and advertiser with the highest conversion rate:\")\n",
        "print(\"Country:\", highest_conversion_rate_country)\n",
        "print(\"Game:\", highest_conversion_rate_game)\n",
        "print(\"Advertiser:\", highest_conversion_rate_advertiser)"
      ],
      "metadata": {
        "colab": {
          "base_uri": "https://localhost:8080/"
        },
        "id": "4tCFBgEoOUvn",
        "outputId": "43a76cdf-714f-4216-9812-853a6477a8d1"
      },
      "execution_count": null,
      "outputs": [
        {
          "output_type": "stream",
          "name": "stdout",
          "text": [
            "The country, game, and advertiser with the highest conversion rate:\n",
            "Country: IN\n",
            "Game: eVy14GUauNxRgry1jzzc\n",
            "Advertiser: 0pWbqOUFkryuIs6BtsS6\n"
          ]
        }
      ]
    },
    {
      "cell_type": "markdown",
      "source": [
        "* The code calculates the conversion rate by summing the installs and spending for each combination of country, game app, and advertiser. It then calculates the conversion rate by dividing the installs by spending. The dataframe is sorted by the conversion rate in descending order, and the country, game, and advertiser with the highest conversion rate are retrieved and printed as output.\n",
        "* Regarding the reliability of the conversion rate, there are a few reasons why we cannot fully trust this number:\n",
        "  * Lack of additional metrics: The conversion rate alone does not provide a comprehensive understanding of the performance. It's essential to consider other metrics such as user engagement, retention, and overall revenue to assess the true success of a game, country, or advertiser.\n",
        "  * Measurement errors: Conversion rates rely on accurate measurement of installs and spending. However, measurement errors can occur due to technical issues, tracking discrepancies, or limitations in data collection methods. Such errors can introduce noise and inaccuracies in the conversion rate calculation.\n",
        "  * Causality vs. correlation: While the conversion rate provides insights into the relationship between installs and spending, it does not establish a causal relationship. Other factors, such as the quality of the game app, marketing strategies, user targeting, or user experience, can also impact the conversion rate. Therefore, relying solely on the conversion rate without considering these factors might not provide a comprehensive understanding of the performance."
      ],
      "metadata": {
        "id": "7gDfdvIYPhrh"
      }
    },
    {
      "cell_type": "markdown",
      "source": [
        "### Plot the conversion rate per country per calendar date for all the datasets."
      ],
      "metadata": {
        "id": "TBVny40xRSaU"
      }
    },
    {
      "cell_type": "code",
      "source": [
        "import matplotlib.pyplot as plt\n",
        "\n",
        "# Convert the 'createdat' column to datetime\n",
        "df['createdat'] = pd.to_datetime(df['createdat'], unit='s')\n",
        "\n",
        "# Calculate the conversion rate (approximated as installs/spending) per country per calendar date\n",
        "conversion_rate_df = df.groupby(['country', pd.Grouper(key='createdat', freq='D')]).agg({\n",
        "    'install': 'sum',\n",
        "    'spending': 'sum'\n",
        "}).reset_index()\n",
        "\n",
        "conversion_rate_df['conversion_rate'] = conversion_rate_df['install'] / conversion_rate_df['spending']\n",
        "\n",
        "# Plot the conversion rate per country per calendar date\n",
        "countries = conversion_rate_df['country'].unique()\n",
        "\n",
        "for country in countries:\n",
        "    country_df = conversion_rate_df[conversion_rate_df['country'] == country]\n",
        "    plt.plot(country_df['createdat'], country_df['conversion_rate'], label=country)\n",
        "\n",
        "plt.xlabel('Date')\n",
        "plt.ylabel('Conversion Rate')\n",
        "plt.title('Conversion Rate per Country per Calendar Date')\n",
        "plt.legend()\n",
        "plt.xticks(rotation=45)\n",
        "plt.show()"
      ],
      "metadata": {
        "colab": {
          "base_uri": "https://localhost:8080/",
          "height": 524
        },
        "id": "7PIXi_fkPjJQ",
        "outputId": "01a951b7-016d-4819-aa82-6f7624a9a524"
      },
      "execution_count": null,
      "outputs": [
        {
          "output_type": "display_data",
          "data": {
            "text/plain": [
              "<Figure size 640x480 with 1 Axes>"
            ],
            "image/png": "[encoded data removed]"
          },
          "metadata": {}
        }
      ]
    },
    {
      "cell_type": "markdown",
      "source": [
        "* The code above generates a line plot where the x-axis represents the calendar date, the y-axis represents the conversion rate, and each line represents a different country."
      ],
      "metadata": {
        "id": "vQUl-bAzRb6I"
      }
    },
    {
      "cell_type": "markdown",
      "source": [
        "### Design a model to predict the likelihood of installation based on the available parameter."
      ],
      "metadata": {
        "id": "GwwdxkN2Ruxm"
      }
    },
    {
      "cell_type": "code",
      "source": [
        "import seaborn as sns\n",
        "from sklearn.model_selection import train_test_split\n",
        "from sklearn.linear_model import LogisticRegression\n",
        "from sklearn.tree import DecisionTreeClassifier\n",
        "from sklearn.ensemble import RandomForestClassifier\n",
        "from sklearn.svm import SVC\n",
        "from sklearn.pipeline import make_pipeline\n",
        "from sklearn.metrics import accuracy_score, precision_score, recall_score, f1_score, roc_curve, roc_auc_score\n",
        "from sklearn.preprocessing import StandardScaler\n",
        "from sklearn.decomposition import PCA\n",
        "from sklearn.feature_selection import SelectKBest, chi2\n",
        "from sklearn.preprocessing import StandardScaler, OneHotEncoder\n",
        "from sklearn.compose import ColumnTransformer\n",
        "import matplotlib.pyplot as plt\n"
      ],
      "metadata": {
        "id": "xpJLkfNuVZUd"
      },
      "execution_count": null,
      "outputs": []
    },
    {
      "cell_type": "code",
      "source": [
        "# Define the classifiers\n",
        "classifiers = [\n",
        "    LogisticRegression(),\n",
        "    DecisionTreeClassifier(),\n",
        "    RandomForestClassifier(),\n",
        "    # SVC() # Dor SVC it is taking too much time for me, hence I have commented for now\n",
        "]"
      ],
      "metadata": {
        "id": "wpJ5M_orff1Q"
      },
      "execution_count": null,
      "outputs": []
    },
    {
      "cell_type": "code",
      "source": [
        "# Remove redundant or not useful features\n",
        "df = df.drop(['user id', 'createdat'], axis=1)\n",
        "\n",
        "# Encode categorical variables using one-hot encoding\n",
        "df_encoded = pd.get_dummies(df, columns=['game app', 'country', 'advertiser', 'carrier'])\n",
        "# df_encoded = pd.get_dummies(df, columns=['game app'])\n",
        "\n",
        "# Split the data into features (X) and target variable (y)\n",
        "X = df_encoded.drop('install', axis=1)\n",
        "y = df_encoded['install']\n"
      ],
      "metadata": {
        "id": "rWErTnoxYVBb"
      },
      "execution_count": null,
      "outputs": []
    },
    {
      "cell_type": "code",
      "source": [
        "X_train, X_test, y_train, y_test = train_test_split(X, y, test_size=0.2, random_state=42)\n"
      ],
      "metadata": {
        "id": "8ElXEGQAgWnn"
      },
      "execution_count": null,
      "outputs": []
    },
    {
      "cell_type": "markdown",
      "source": [
        "#### Before feature selection"
      ],
      "metadata": {
        "id": "igpQKu9ikLyR"
      }
    },
    {
      "cell_type": "code",
      "source": [
        "# Train and evaluate each classifier\n",
        "for classifier in classifiers:\n",
        "    # Train the classifier\n",
        "    classifier.fit(X_train, y_train)\n",
        "\n",
        "    # Make predictions on the testing set\n",
        "    y_pred = classifier.predict(X_test)\n",
        "\n",
        "    # Calculate and print evaluation metrics\n",
        "    accuracy = accuracy_score(y_test, y_pred)\n",
        "    precision = precision_score(y_test, y_pred)\n",
        "    recall = recall_score(y_test, y_pred)\n",
        "    f1 = f1_score(y_test, y_pred)\n",
        "    auc = roc_auc_score(y_test, y_pred)\n",
        "\n",
        "    print(f\"Classifier: {type(classifier).__name__}\")\n",
        "    print(f\"Accuracy: {accuracy}\")\n",
        "    print(f\"Precision: {precision}\")\n",
        "    print(f\"Recall: {recall}\")\n",
        "    print(f\"F1 Score: {f1}\")\n",
        "    print(f\"AUC: {auc}\")\n",
        "    print(\"---------------------------\")\n"
      ],
      "metadata": {
        "colab": {
          "base_uri": "https://localhost:8080/"
        },
        "id": "IBSocv7ZRjiF",
        "outputId": "3ad095b0-ef9e-4962-b1dc-e3841472b13c"
      },
      "execution_count": null,
      "outputs": [
        {
          "output_type": "stream",
          "name": "stderr",
          "text": [
            "/usr/local/lib/python3.10/dist-packages/sklearn/metrics/_classification.py:1344: UndefinedMetricWarning: Precision is ill-defined and being set to 0.0 due to no predicted samples. Use `zero_division` parameter to control this behavior.\n",
            "  _warn_prf(average, modifier, msg_start, len(result))\n"
          ]
        },
        {
          "output_type": "stream",
          "name": "stdout",
          "text": [
            "Classifier: LogisticRegression\n",
            "Accuracy: 0.9785\n",
            "Precision: 0.0\n",
            "Recall: 0.0\n",
            "F1 Score: 0.0\n",
            "AUC: 0.5\n",
            "---------------------------\n",
            "Classifier: DecisionTreeClassifier\n",
            "Accuracy: 1.0\n",
            "Precision: 1.0\n",
            "Recall: 1.0\n",
            "F1 Score: 1.0\n",
            "AUC: 1.0\n",
            "---------------------------\n",
            "Classifier: RandomForestClassifier\n",
            "Accuracy: 1.0\n",
            "Precision: 1.0\n",
            "Recall: 1.0\n",
            "F1 Score: 1.0\n",
            "AUC: 1.0\n",
            "---------------------------\n"
          ]
        }
      ]
    },
    {
      "cell_type": "markdown",
      "source": [
        "#### After feature selection"
      ],
      "metadata": {
        "id": "hannLPkVkaA-"
      }
    },
    {
      "cell_type": "markdown",
      "source": [
        "* In the code below, we first load the dataset and remove the redundant or not useful features. Then, we compute the correlation matrix using the corr() function on the DataFrame."
      ],
      "metadata": {
        "id": "aiUuBAPrV0fo"
      }
    },
    {
      "cell_type": "code",
      "source": [
        "# Compute the correlation matrix\n",
        "correlation_matrix = df.corr()\n",
        "\n",
        "# Generate the heatmap\n",
        "plt.figure(figsize=(10, 8))\n",
        "sns.heatmap(correlation_matrix, annot=True, cmap='coolwarm', linewidths=0.5)\n",
        "plt.title('Correlation Heatmap')\n",
        "plt.show()"
      ],
      "metadata": {
        "colab": {
          "base_uri": "https://localhost:8080/",
          "height": 754
        },
        "id": "rdVIdi3VUSWu",
        "outputId": "6c40ce5a-7225-47c0-8d1b-d01ee463471a"
      },
      "execution_count": null,
      "outputs": [
        {
          "output_type": "stream",
          "name": "stderr",
          "text": [
            "<ipython-input-11-06ff44b58529>:2: FutureWarning: The default value of numeric_only in DataFrame.corr is deprecated. In a future version, it will default to False. Select only valid columns or specify the value of numeric_only to silence this warning.\n",
            "  correlation_matrix = df.corr()\n"
          ]
        },
        {
          "output_type": "display_data",
          "data": {
            "text/plain": [
              "<Figure size 1000x800 with 2 Axes>"
            ],
            "image/png": "[encoded data removed]"
          },
          "metadata": {}
        }
      ]
    },
    {
      "cell_type": "markdown",
      "source": [
        "\n",
        "\n",
        "---\n",
        "\n"
      ],
      "metadata": {
        "id": "ibesB_MdkkiZ"
      }
    },
    {
      "cell_type": "markdown",
      "source": [
        "The code below use PCA to find top features."
      ],
      "metadata": {
        "id": "KCIGMrbykdjq"
      }
    },
    {
      "cell_type": "code",
      "source": [
        "# Standardize the features\n",
        "scaler = StandardScaler()\n",
        "X_scaled = scaler.fit_transform(X)\n",
        "\n",
        "# Perform PCA\n",
        "pca = PCA()\n",
        "X_pca = pca.fit_transform(X_scaled)\n",
        "\n",
        "# Get the explained variance ratio for each component\n",
        "explained_variance_ratio = pca.explained_variance_ratio_\n",
        "\n",
        "# Get the feature importance based on the explained variance ratio\n",
        "feature_names = list(X.columns)\n",
        "feature_importance = pd.DataFrame({'Feature': feature_names, 'Importance': explained_variance_ratio})\n",
        "feature_importance = feature_importance.sort_values(by='Importance', ascending=False)\n",
        "\n",
        "# Print the feature importance\n",
        "print(\"Feature Importance:\")\n",
        "print(feature_importance)"
      ],
      "metadata": {
        "colab": {
          "base_uri": "https://localhost:8080/"
        },
        "id": "XZmzYmNBcg3Z",
        "outputId": "3076689f-273c-4ee5-f3c0-cd1f0bbfb2ef"
      },
      "execution_count": null,
      "outputs": [
        {
          "output_type": "stream",
          "name": "stdout",
          "text": [
            "Feature Importance:\n",
            "               Feature    Importance\n",
            "0                  age  3.824389e-02\n",
            "1   user quality score  2.362060e-02\n",
            "2             spending  1.744236e-02\n",
            "3              earning  1.743436e-02\n",
            "4               mccmnc  1.742179e-02\n",
            "..                 ...           ...\n",
            "64       carrier_or5od  2.728724e-08\n",
            "65       carrier_rJH5N  8.504859e-33\n",
            "66       carrier_wyZnu  1.541125e-33\n",
            "67       carrier_yKuvX  1.473081e-33\n",
            "68       carrier_yLkEy  9.511872e-34\n",
            "\n",
            "[69 rows x 2 columns]\n"
          ]
        }
      ]
    },
    {
      "cell_type": "markdown",
      "source": [
        "\n",
        "\n",
        "---\n",
        "\n"
      ],
      "metadata": {
        "id": "cGn1XGRjknDo"
      }
    },
    {
      "cell_type": "markdown",
      "source": [
        "The code below finds the top five features using SelectKBest."
      ],
      "metadata": {
        "id": "rROKXAcjko62"
      }
    },
    {
      "cell_type": "code",
      "source": [
        "# Select the top k features using SelectKBest\n",
        "k = 5  # Specify the number of top features to select\n",
        "selector = SelectKBest(chi2, k=k)\n",
        "X_new = selector.fit_transform(X, y)\n",
        "\n",
        "# Get the indices of the selected features\n",
        "selected_feature_indices = selector.get_support(indices=True)\n",
        "\n",
        "# Get the names of the selected features\n",
        "selected_features = X.columns[selected_feature_indices]\n",
        "\n",
        "features = []\n",
        "# Print the selected features\n",
        "print(\"Selected Features:\")\n",
        "for feature in selected_features:\n",
        "    # print(feature)\n",
        "    features.append(feature.split(\"_\")[0]) if '_' in feature else features.append(feature)\n",
        "\n",
        "features\n"
      ],
      "metadata": {
        "colab": {
          "base_uri": "https://localhost:8080/"
        },
        "id": "Sfb5hgJ_VdCt",
        "outputId": "394f4a25-5747-4a1b-bf53-f013534c5910"
      },
      "execution_count": null,
      "outputs": [
        {
          "output_type": "stream",
          "name": "stdout",
          "text": [
            "Selected Features:\n"
          ]
        },
        {
          "output_type": "execute_result",
          "data": {
            "text/plain": [
              "['age', 'user quality score', 'earning', 'mccmnc', 'game app']"
            ]
          },
          "metadata": {},
          "execution_count": 13
        }
      ]
    },
    {
      "cell_type": "markdown",
      "source": [
        "\n",
        "\n",
        "---\n",
        "\n"
      ],
      "metadata": {
        "id": "DROrOAE8kwK5"
      }
    },
    {
      "cell_type": "markdown",
      "source": [
        "Based on the above **three** feature selection techniques, I have listed the selected features as below and extracted the data for the modeling."
      ],
      "metadata": {
        "id": "LvToFFuPkxwG"
      }
    },
    {
      "cell_type": "code",
      "source": [
        "# Select the relevant features\n",
        "# selected_features = ['age', 'user quality score', 'earning', 'mccmnc', 'game app']\n",
        "selected_features = features\n",
        "df_selected = df[selected_features + ['install']]\n",
        "\n",
        "# Encode categorical variable 'game app'\n",
        "df_encoded = pd.get_dummies(df_selected, columns=['game app'])\n",
        "\n",
        "# Split the data into features (X) and target variable (y)\n",
        "X = df_encoded.drop('install', axis=1)\n",
        "# y = df_encoded['install']\n",
        "\n",
        "# Split the data into training and testing sets\n",
        "X_train, X_test, y_train, y_test = train_test_split(X, y, test_size=0.2, random_state=42)\n"
      ],
      "metadata": {
        "id": "nDaRt1-XYgrw"
      },
      "execution_count": null,
      "outputs": []
    },
    {
      "cell_type": "code",
      "source": [
        "# Train and evaluate each classifier\n",
        "for classifier in classifiers:\n",
        "    # Create a pipeline with feature scaling and the classifier\n",
        "    pipeline = make_pipeline(StandardScaler(), classifier)\n",
        "\n",
        "    # Train the classifier\n",
        "    pipeline.fit(X_train, y_train)\n",
        "\n",
        "    # Make predictions on the testing set\n",
        "    y_pred1 = pipeline.predict(X_test)\n",
        "\n",
        "    # Calculate and print evaluation metrics\n",
        "    accuracy = accuracy_score(y_test, y_pred)\n",
        "    precision = precision_score(y_test, y_pred)\n",
        "    recall = recall_score(y_test, y_pred)\n",
        "    f1 = f1_score(y_test, y_pred)\n",
        "\n",
        "    print(f\"Classifier: {type(classifier).__name__}\")\n",
        "    print(f\"Accuracy: {accuracy}\")\n",
        "    print(f\"Precision: {precision}\")\n",
        "    print(f\"Recall: {recall}\")\n",
        "    print(f\"F1 Score: {f1}\")\n",
        "    print(\"---------------------------\")"
      ],
      "metadata": {
        "colab": {
          "base_uri": "https://localhost:8080/"
        },
        "id": "Aeve2NfcXYqU",
        "outputId": "2a207694-446c-4bb3-9474-4d82ef6ccccd"
      },
      "execution_count": null,
      "outputs": [
        {
          "output_type": "stream",
          "name": "stdout",
          "text": [
            "Classifier: LogisticRegression\n",
            "Accuracy: 1.0\n",
            "Precision: 1.0\n",
            "Recall: 1.0\n",
            "F1 Score: 1.0\n",
            "---------------------------\n",
            "Classifier: DecisionTreeClassifier\n",
            "Accuracy: 1.0\n",
            "Precision: 1.0\n",
            "Recall: 1.0\n",
            "F1 Score: 1.0\n",
            "---------------------------\n",
            "Classifier: RandomForestClassifier\n",
            "Accuracy: 1.0\n",
            "Precision: 1.0\n",
            "Recall: 1.0\n",
            "F1 Score: 1.0\n",
            "---------------------------\n"
          ]
        }
      ]
    },
    {
      "cell_type": "markdown",
      "source": [
        "As it can be seen, the accuracy is improved after slection of relevant features and we no more need to optimize the value of K in SelectKBest."
      ],
      "metadata": {
        "id": "lzwzuV4Vk_Vu"
      }
    },
    {
      "cell_type": "markdown",
      "source": [
        "\n",
        "\n",
        "---\n",
        "\n"
      ],
      "metadata": {
        "id": "MD0lzqX5YR93"
      }
    },
    {
      "cell_type": "markdown",
      "source": [
        "### What is the accuracy of the model and what are the other metrics that might be useful here?"
      ],
      "metadata": {
        "id": "9kOs8U44lZsT"
      }
    },
    {
      "cell_type": "markdown",
      "source": [
        "The accuracy is closer to 1 and metrics that have been useful here are Precision, Recall and F1 score."
      ],
      "metadata": {
        "id": "y9s37ccXleZ6"
      }
    }
  ]
}